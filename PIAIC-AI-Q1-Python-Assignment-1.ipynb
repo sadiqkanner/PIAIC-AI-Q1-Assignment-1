{
 "cells": [
  {
   "cell_type": "code",
   "execution_count": 1,
   "metadata": {},
   "outputs": [
    {
     "name": "stdout",
     "output_type": "stream",
     "text": [
      "Input the radius of the circle : 1\n",
      "The area of the circle with radius 1.0 is: 3.141592653589793\n"
     ]
    }
   ],
   "source": [
    "from math import pi\n",
    "r = float(input (\"Input the radius of the circle : \"))\n",
    "print (\"The area of the circle with radius \" + str(r) + \" is: \" + str(pi * r**2))"
   ]
  },
  {
   "cell_type": "code",
   "execution_count": 2,
   "metadata": {},
   "outputs": [
    {
     "name": "stdout",
     "output_type": "stream",
     "text": [
      " Enter a Number 01\n",
      "1 Positive Number Entered\n"
     ]
    }
   ],
   "source": [
    "num = int(input(\" Enter a Number \"))\n",
    "\n",
    "if num > 0:\n",
    "    print(str(num)+\" Positive Number Entered\")\n",
    "if num < 0:\n",
    "    print(str(num)+\" Negative Number Entered\")\n",
    "if num == 0:\n",
    "    print(str(num)+\" Zero Entered\")"
   ]
  },
  {
   "cell_type": "code",
   "execution_count": 3,
   "metadata": {},
   "outputs": [
    {
     "name": "stdout",
     "output_type": "stream",
     "text": [
      " Enter numerator 1\n",
      " Enter Denominator 2\n",
      "Number 1 is not Completely divisible by 2\n"
     ]
    }
   ],
   "source": [
    "num = int(input(\" Enter numerator \"))\n",
    "den = int(input(\" Enter Denominator \"))\n",
    "\n",
    "if num % den == 0:\n",
    "    print(\"Number \"+str(num)+\" is Completely divisible by \"+str(den))\n",
    "else:\n",
    "    print(\"Number \"+str(num)+\" is not Completely divisible by \"+str(den))"
   ]
  },
  {
   "cell_type": "code",
   "execution_count": 4,
   "metadata": {},
   "outputs": [
    {
     "name": "stdout",
     "output_type": "stream",
     "text": [
      "Enter a date in (dd/mm/yy) format: 12/12/201812/12/2018\n",
      "Enter a date in (dd/mm/yy) format: 16/12/201812/12/2018\n",
      "There are 0 days in between 12/12/2018 and 12/12/2018\n"
     ]
    }
   ],
   "source": [
    "dts = input(\"Enter a date in (dd/mm/yy) format: 12/12/2018\")\n",
    "dte = input(\"Enter a date in (dd/mm/yy) format: 16/12/2018\")\n",
    "x = int(dts[:2])\n",
    "y = int(dte[:2])\n",
    "res = y-x\n",
    "print(\"There are \"+str(res)+\" days in between \"+dts+\" and \"+dte)"
   ]
  },
  {
   "cell_type": "code",
   "execution_count": 10,
   "metadata": {},
   "outputs": [
    {
     "name": "stdout",
     "output_type": "stream",
     "text": [
      "Enter Radius: 1\n",
      "The volume of the sphere is:  4.1887902047863905\n"
     ]
    }
   ],
   "source": [
    "r = int(input(\"Enter Radius: \"))\n",
    "pi = 3.1415926535897931\n",
    "V = 4.0/3.0*pi* r**3\n",
    "print('The volume of the sphere is: ',V)"
   ]
  },
  {
   "cell_type": "code",
   "execution_count": 33,
   "metadata": {},
   "outputs": [
    {
     "name": "stdout",
     "output_type": "stream",
     "text": [
      "Enter Stringsadiq\n",
      "How many copies of String you need 5\n",
      "5 Copies of sadiq are sadiqsadiqsadiqsadiqsadiq\n"
     ]
    }
   ],
   "source": [
    "string = input(\"Enter String\")\n",
    "pa = []\n",
    "cp = int(input(\"How many copies of String you need \"))\n",
    "\n",
    "for i in range(cp):\n",
    "    pa = pa + [string]\n",
    "print(str(cp)+\" Copies of \"+string+\" are \"+\"\".join(pa))"
   ]
  },
  {
   "cell_type": "code",
   "execution_count": 36,
   "metadata": {},
   "outputs": [
    {
     "name": "stdout",
     "output_type": "stream",
     "text": [
      "Enter the Number 0\n",
      "0 is Even\n"
     ]
    }
   ],
   "source": [
    "num = int(input(\"Enter the Number \"))\n",
    "\n",
    "if num % 2 == 0:\n",
    "    print(str(num)+\" is Even\")\n",
    "else:\n",
    "    print(str(num)+\" is Odd\")"
   ]
  },
  {
   "cell_type": "code",
   "execution_count": 40,
   "metadata": {},
   "outputs": [
    {
     "name": "stdout",
     "output_type": "stream",
     "text": [
      " Enter a character E\n",
      "Letter E is Vowel\n"
     ]
    }
   ],
   "source": [
    "char = input(\" Enter a character \")\n",
    "\n",
    "if char == 'a' or char == 'e' or char == 'i' or char == 'o' or char == 'u' or char == 'A' or char == 'E' or char == 'I' or char == 'O' or char == 'U':\n",
    "    print(\" Letter \"+char+\" is Vowel\")\n",
    "else:\n",
    "    print(\" Letter \"+char+\" is Not Vowel\")"
   ]
  },
  {
   "cell_type": "code",
   "execution_count": 45,
   "metadata": {},
   "outputs": [
    {
     "name": "stdout",
     "output_type": "stream",
     "text": [
      "Enter magnitude of Triangle base4\n",
      "Enter Magnitude of Triangle Height4\n",
      "Area of a Triangle with Height 4 and Base 4 is 8\n"
     ]
    }
   ],
   "source": [
    "tb = int(input(\"Enter magnitude of Triangle base\"))\n",
    "th = int(input(\"Enter Magnitude of Triangle Height\"))\n",
    "print(\"Area of a Triangle with Height \"+str(th)+\" and Base \"+str(tb)+\" is \"+str(th+tb))"
   ]
  },
  {
   "cell_type": "code",
   "execution_count": 66,
   "metadata": {},
   "outputs": [
    {
     "name": "stdout",
     "output_type": "stream",
     "text": [
      "16105.1\n"
     ]
    }
   ],
   "source": [
    "amt = 10000\n",
    "intrst = 10\n",
    "years = 5\n",
    "\n",
    "future_value  = amt*((1+(0.01*intrst)) ** years)\n",
    "print(round(future_value,2))"
   ]
  },
  {
   "cell_type": "code",
   "execution_count": 13,
   "metadata": {},
   "outputs": [
    {
     "name": "stdout",
     "output_type": "stream",
     "text": [
      "Enter Co-ordinate for x1: 5\n",
      "Enter Co-ordinate for x2: 6\n",
      "Enter Co-ordinate for y1: 4\n",
      "Enter Co-ordinate for y2: 5\n",
      "Distance between (5,6) and (4,5) is 1.4142135623730951\n"
     ]
    }
   ],
   "source": [
    "import math\n",
    "x1 = int(input('Enter Co-ordinate for x1: '))\n",
    "x2 = int(input('Enter Co-ordinate for x2: '))\n",
    "y1 = int(input('Enter Co-ordinate for y1: '))\n",
    "y2 = int(input('Enter Co-ordinate for y2: '))\n",
    "\n",
    "ED = math.sqrt(pow(y1-x1, 2) + pow(y2-x2, 2))\n",
    "print(\"Distance between (\"+str(x1)+\",\"+str(x2)+\") and (\"+str(y1)+\",\"+str(y2)+\") is \"+str(ED))"
   ]
  },
  {
   "cell_type": "code",
   "execution_count": 14,
   "metadata": {},
   "outputs": [
    {
     "name": "stdout",
     "output_type": "stream",
     "text": [
      "Enter Height in Feet5\n",
      "There are 152.4 Cm in 5 ft\n"
     ]
    }
   ],
   "source": [
    "feet = int(input(\"Enter Height in Feet\"))\n",
    "cm = feet * 30.48\n",
    "print(\"There are \"+str(cm)+\" Cm in \"+str(feet)+\" ft\")\n"
   ]
  },
  {
   "cell_type": "code",
   "execution_count": 2,
   "metadata": {},
   "outputs": [
    {
     "name": "stdout",
     "output_type": "stream",
     "text": [
      "Enter Height in Cm 180\n",
      "Enter Weight in Kg 64\n",
      "Your BMI is 20\n"
     ]
    }
   ],
   "source": [
    "height = int(input(\"Enter Height in Cm \"))\n",
    "weight = int(input(\"Enter Weight in Kg \"))\n",
    "bmi = round(weight / ((height/100) ** 2))\n",
    "print(\"Your BMI is \"+str(bmi))"
   ]
  },
  {
   "cell_type": "code",
   "execution_count": 2,
   "metadata": {},
   "outputs": [
    {
     "name": "stdout",
     "output_type": "stream",
     "text": [
      "Enter value of n5\n",
      "Sum of n Positive integers till 5 is 15.0\n"
     ]
    }
   ],
   "source": [
    "n = int(input(\"Enter value of n\"))\n",
    "total = n * (n+1) / 2\n",
    "print(\"Sum of n Positive integers till \"+str(n)+\" is \"+str(total))"
   ]
  },
  {
   "cell_type": "code",
   "execution_count": 26,
   "metadata": {},
   "outputs": [
    {
     "name": "stdout",
     "output_type": "stream",
     "text": [
      "Enter a number: 123\n",
      "The sum of 123 digits of number is 6\n"
     ]
    }
   ],
   "source": [
    "num = int(input(\"Enter a number: \"))\n",
    "sum = 0\n",
    "hold = num\n",
    "while num > 0:\n",
    "    d = num%10\n",
    "    num = num//10\n",
    "    sum += d\n",
    "    \n",
    "print(\"The sum of \"+str(hold\n",
    "                       )+\" digits of number is\",sum)"
   ]
  },
  {
   "cell_type": "code",
   "execution_count": 41,
   "metadata": {},
   "outputs": [
    {
     "name": "stdout",
     "output_type": "stream",
     "text": [
      "Enter any decimal number: 5\n",
      "Equivalent Binary Number:  0b101\n"
     ]
    }
   ],
   "source": [
    "number = int(input(\"Enter any decimal number: \"))\n",
    "print(\"Equivalent Binary Number: \", bin(number))"
   ]
  },
  {
   "cell_type": "code",
   "execution_count": 51,
   "metadata": {},
   "outputs": [
    {
     "name": "stdout",
     "output_type": "stream",
     "text": [
      "Enter number in Binary Format: 1101\n",
      "1101 in Decimal = 13\n"
     ]
    }
   ],
   "source": [
    "binary = input(\"Enter number in Binary Format: \")\n",
    "decimal = int(binary, 2)\n",
    "print(binary,\"in Decimal =\",decimal)"
   ]
  },
  {
   "cell_type": "code",
   "execution_count": 11,
   "metadata": {},
   "outputs": [
    {
     "name": "stdout",
     "output_type": "stream",
     "text": [
      "Vowels : 9\n",
      "Consonants : 19\n"
     ]
    }
   ],
   "source": [
    "x = 'QuickBrownFoxJumpsovertheDog'\n",
    "vowels = set('aeiou')\n",
    "consonants = sum(i not in vowels for i in x)\n",
    "vowels = sum(i in vowels for i in x)\n",
    "print(\"Vowels : \"+str(vowels))\n",
    "print(\"Consonants : \"+str(consonants))"
   ]
  },
  {
   "cell_type": "code",
   "execution_count": 18,
   "metadata": {},
   "outputs": [
    {
     "name": "stdout",
     "output_type": "stream",
     "text": [
      "HELLO\n",
      "Text HELLO is not a Palindrome\n"
     ]
    }
   ],
   "source": [
    "x = input()\n",
    "w = \"\" \n",
    "for i in x: \n",
    "    w = i + w\n",
    "    \n",
    "if x == w: \n",
    "    print(\"Text \"+str(x)+\" is Palindrome\")\n",
    "else:\n",
    "    print(\"Text \"+str(x)+\" is not a Palindrome\")\n",
    "        "
   ]
  },
  {
   "cell_type": "code",
   "execution_count": 23,
   "metadata": {},
   "outputs": [
    {
     "name": "stdout",
     "output_type": "stream",
     "text": [
      "Please Enter your Own String : Python 3.2\n",
      " Alphabets in this String :   6\n",
      " Digits in this String :   2\n",
      " Special Characters :   2\n"
     ]
    }
   ],
   "source": [
    "string = input(\"Please Enter your Own String : \")\n",
    "alphabets = digits = special = 0\n",
    "space = ''\n",
    "for i in range(len(string)):\n",
    "    if(string[i].isalpha()):\n",
    "        alphabets = alphabets + 1\n",
    "    elif(string[i].isdigit()):\n",
    "        digits = digits + 1\n",
    "    else:\n",
    "        special = special + 1\n",
    "        \n",
    "print(\" Alphabets in this String :  \", alphabets)\n",
    "print(\" Digits in this String :  \", digits)\n",
    "print(\" Special Characters :  \", special)"
   ]
  },
  {
   "cell_type": "code",
   "execution_count": 26,
   "metadata": {},
   "outputs": [
    {
     "name": "stdout",
     "output_type": "stream",
     "text": [
      "Enter max star to be display on single line10\n",
      "* \n",
      "* * \n",
      "* * * \n",
      "* * * * \n",
      "* * * * * \n",
      "* * * * * * \n",
      "* * * * * * * \n",
      "* * * * * * * * \n",
      "* * * * * * * * * \n",
      "* * * * * * * * * * \n",
      "* * * * * * * * * \n",
      "* * * * * * * * \n",
      "* * * * * * * \n",
      "* * * * * * \n",
      "* * * * * \n",
      "* * * * \n",
      "* * * \n",
      "* * \n",
      "* \n",
      "\n"
     ]
    }
   ],
   "source": [
    "rows = input(\"Enter max star to be display on single line\")\n",
    "rows = int (rows)\n",
    "for i in range (0, rows):\n",
    "    for j in range(0, i + 1):\n",
    "        print(\"*\", end=' ')\n",
    "    print(\"\\r\")\n",
    "\n",
    "for i in range (rows, 0, -1):\n",
    "    for j in range(0, i -1):\n",
    "        print(\"*\", end=' ')\n",
    "    print(\"\\r\")"
   ]
  },
  {
   "cell_type": "code",
   "execution_count": 33,
   "metadata": {},
   "outputs": [
    {
     "name": "stdout",
     "output_type": "stream",
     "text": [
      "Enter max star to be display on single line5\n",
      "1 \n",
      "1 2 \n",
      "1 2 3 \n",
      "1 2 3 4 \n",
      "1 2 3 4 5 \n",
      "1 2 3 4 \n",
      "1 2 3 \n",
      "1 2 \n",
      "1 \n",
      "\n"
     ]
    }
   ],
   "source": [
    "rows = input(\"Enter max star to be display on single line\")\n",
    "rows = int (rows)\n",
    "for i in range (0, rows):\n",
    "    for j in range(0, i + 1):\n",
    "        print(j+1, end=' ')\n",
    "    print(\"\\r\")\n",
    "\n",
    "for i in range (rows, 0, -1):\n",
    "    for j in range(0, i -1):\n",
    "        print(j+1, end=' ')\n",
    "    print(\"\\r\")"
   ]
  },
  {
   "cell_type": "code",
   "execution_count": 24,
   "metadata": {},
   "outputs": [
    {
     "name": "stdout",
     "output_type": "stream",
     "text": [
      "\n",
      "1\n",
      "22\n",
      "333\n",
      "4444\n",
      "55555\n",
      "666666\n",
      "7777777\n",
      "88888888\n",
      "999999999\n"
     ]
    }
   ],
   "source": [
    "for i in range(10):\n",
    "    print(str(i) * i)"
   ]
  },
  {
   "cell_type": "code",
   "execution_count": null,
   "metadata": {},
   "outputs": [],
   "source": []
  }
 ],
 "metadata": {
  "kernelspec": {
   "display_name": "Python 3",
   "language": "python",
   "name": "python3"
  },
  "language_info": {
   "codemirror_mode": {
    "name": "ipython",
    "version": 3
   },
   "file_extension": ".py",
   "mimetype": "text/x-python",
   "name": "python",
   "nbconvert_exporter": "python",
   "pygments_lexer": "ipython3",
   "version": "3.7.3"
  }
 },
 "nbformat": 4,
 "nbformat_minor": 2
}
